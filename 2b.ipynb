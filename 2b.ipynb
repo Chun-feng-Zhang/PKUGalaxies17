{
 "cells": [
  {
   "cell_type": "code",
   "execution_count": 14,
   "metadata": {},
   "outputs": [
    {
     "name": "stdout",
     "output_type": "stream",
     "text": [
      "Scale =  10.120 +/- 0.636\n",
      "Offset = 3.170 +/- 0.147\n",
      "Sigma =  1.676 +/- 0.220\n"
     ]
    },
    {
     "name": "stderr",
     "output_type": "stream",
     "text": [
      "/home/cfzhang/.local/lib/python3.5/site-packages/matplotlib/axes/_axes.py:2818: MatplotlibDeprecationWarning: Use of None object as fmt keyword argument to suppress plotting of data values is deprecated since 1.4; use the string \"none\" instead.\n",
      "  warnings.warn(msg, mplDeprecation, stacklevel=1)\n"
     ]
    },
    {
     "data": {
      "image/png": "[encoded data removed]",
      "text/plain": [
       "<matplotlib.figure.Figure at 0xad98588c>"
      ]
     },
     "metadata": {},
     "output_type": "display_data"
    }
   ],
   "source": [
    "from scipy.optimize import curve_fit\n",
    "import matplotlib.pyplot as plt\n",
    "import numpy as np\n",
    "# Create a function\n",
    "# ==> First encounter with *whitespace* in Python <==\n",
    "def gaussian(x, a, b, c):\n",
    "    val = a * np.exp(-(x - b)**2 / c**2)\n",
    "    return val\n",
    "\n",
    "# Generate fake data.\n",
    "# Note: functions in random package, array arithmetic (exp)\n",
    "n = 100\n",
    "x = np.random.uniform(-10., 10., n)\n",
    "y = np.exp(-(x - 3.)**2 / 4) * 10. + np.random.normal(0., 2., n)\n",
    "e = np.random.uniform(0.1, 1., n)\n",
    "# Note: these error bars don't reflect the distribution from which\n",
    "# they were drawn! Chi^2 of the fit will be poor.\n",
    "\n",
    "# Fit\n",
    "popt, pcov = curve_fit(gaussian, x, y, sigma=e)\n",
    "\n",
    "# Print results\n",
    "print(\"Scale =  %.3f +/- %.3f\" % (popt[0], np.sqrt(pcov[0, 0])))\n",
    "print(\"Offset = %.3f +/- %.3f\" % (popt[1], np.sqrt(pcov[1, 1])))\n",
    "print(\"Sigma =  %.3f +/- %.3f\" % (popt[2], np.sqrt(pcov[2, 2])))\n",
    "\n",
    "# Plot data\n",
    "plt.errorbar(x, y, yerr=e, linewidth=1, color='black', fmt=None)\n",
    "\n",
    "# Plot model\n",
    "xm = np.linspace(-10., 10., 100)  # 100 evenly spaced points\n",
    "plt.plot(xm, gaussian(xm, popt[0], popt[1], popt[2]))\n",
    "plt.show()\n",
    "# Save figure\n",
    "#savefig('fit.png')\n"
   ]
  },
  {
   "cell_type": "code",
   "execution_count": null,
   "metadata": {
    "collapsed": true
   },
   "outputs": [],
   "source": []
  }
 ],
 "metadata": {
  "kernelspec": {
   "display_name": "Python 3",
   "language": "python",
   "name": "python3"
  },
  "language_info": {
   "codemirror_mode": {
    "name": "ipython",
    "version": 3
   },
   "file_extension": ".py",
   "mimetype": "text/x-python",
   "name": "python",
   "nbconvert_exporter": "python",
   "pygments_lexer": "ipython3",
   "version": "3.5.2"
  }
 },
 "nbformat": 4,
 "nbformat_minor": 2
}
