{
 "cells": [
  {
   "cell_type": "markdown",
   "metadata": {},
   "source": [
    "# Exercise1"
   ]
  },
  {
   "cell_type": "markdown",
   "metadata": {},
   "source": [
    "## Question 1\n",
    "### I set 4 number of groups. Group 1 names \"bar-tight spiral\" which includes 9 Galaxies，they are field 122 352 359 356 198 196 432 244 and 243；Group 2 names \"oval ball\" which includes 3 Galaxies,they are field 331 216 215；Group 3 names \"spheric\" which includes only one Galaxies field 230；The last group is special ,strange,does not belong to any other 3 groups, which includes only one Galaxies field 319."
   ]
  },
  {
   "cell_type": "markdown",
   "metadata": {},
   "source": [
    "## Question 2\n",
    "### They all have a bright core with halo or spiral around it ,diffrent shape can be distinguished by  ellipticity."
   ]
  },
  {
   "cell_type": "markdown",
   "metadata": {},
   "source": [
    "# Exercise2\n"
   ]
  },
  {
   "cell_type": "markdown",
   "metadata": {},
   "source": [
    "### Ellipticals：E7(122,216,331,215)   E0(230right);        Spirals:Sc(11)  SBa(122)  Sb(196,319,352) Sc(198,243,244,356,432)   S0(230left)   S0(359)"
   ]
  },
  {
   "cell_type": "markdown",
   "metadata": {},
   "source": [
    "# Exercise3"
   ]
  },
  {
   "cell_type": "markdown",
   "metadata": {},
   "source": [
    "### See the csv table"
   ]
  },
  {
   "cell_type": "code",
   "execution_count": null,
   "metadata": {
    "collapsed": true
   },
   "outputs": [],
   "source": []
  }
 ],
 "metadata": {
  "kernelspec": {
   "display_name": "Python 3",
   "language": "python",
   "name": "python3"
  },
  "language_info": {
   "codemirror_mode": {
    "name": "ipython",
    "version": 3
   },
   "file_extension": ".py",
   "mimetype": "text/x-python",
   "name": "python",
   "nbconvert_exporter": "python",
   "pygments_lexer": "ipython3",
   "version": "3.6.1"
  }
 },
 "nbformat": 4,
 "nbformat_minor": 2
}
